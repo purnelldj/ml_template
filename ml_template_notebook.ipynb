{
  "cells": [
    {
      "cell_type": "markdown",
      "metadata": {},
      "source": [
        "**ML TEMPLATE NOTEBOOK**\n",
        "\n",
        "Use cases for the 'ml_template' repository."
      ]
    },
    {
      "cell_type": "markdown",
      "metadata": {
        "id": "8Hn3VNXl-wea"
      },
      "source": [
        "**Running on google colab**\n",
        "\n",
        "1. either copy or git clone the ml_template repository to your drive, e.g. `git clone https://github.com/purnelldj/ml_template.git`\n",
        "\n",
        "2. open this notebook from your drive using colab\n",
        "\n",
        "3. change runtime type to take advantage of GPU / TPU\n",
        "\n",
        "4. mount your drive:"
      ]
    },
    {
      "cell_type": "code",
      "execution_count": null,
      "metadata": {
        "colab": {
          "base_uri": "https://localhost:8080/"
        },
        "id": "20Q9qbstc0aa",
        "outputId": "f9a6b223-5f08-48a3-ec34-502c77aea2bd"
      },
      "outputs": [],
      "source": [
        "from google.colab import drive\n",
        "drive.mount('/content/drive', force_remount=True)"
      ]
    },
    {
      "cell_type": "markdown",
      "metadata": {},
      "source": [
        "Note: if you make any changes to files in drive you need to restart session (see the 'Runtime' menu) and then re-mount the drive.\n",
        "\n",
        "5. change directory to the ml_template repository on your drive:"
      ]
    },
    {
      "cell_type": "code",
      "execution_count": null,
      "metadata": {},
      "outputs": [],
      "source": [
        "%cd /content/drive/MyDrive/colab/ml_template\n",
        "# ctrl click on path above to open it to the left"
      ]
    },
    {
      "cell_type": "markdown",
      "metadata": {},
      "source": [
        "6. install dependencies:"
      ]
    },
    {
      "cell_type": "code",
      "execution_count": null,
      "metadata": {},
      "outputs": [],
      "source": [
        "!pip install -r reqs_colab.txt"
      ]
    },
    {
      "cell_type": "markdown",
      "metadata": {},
      "source": [
        "Note: there is some conflict with hydra-core that requires you to restart the runtime session. If you restart the session, you will need to change directory again:"
      ]
    },
    {
      "cell_type": "code",
      "execution_count": null,
      "metadata": {},
      "outputs": [],
      "source": [
        "%cd /content/drive/MyDrive/colab/ml_template"
      ]
    },
    {
      "cell_type": "markdown",
      "metadata": {},
      "source": [
        "7. (optional) log in to wandb. You do not need to log in if logger.mode=offline (default)"
      ]
    },
    {
      "cell_type": "code",
      "execution_count": null,
      "metadata": {},
      "outputs": [],
      "source": [
        "import wandb\n",
        "wandb.login()"
      ]
    },
    {
      "cell_type": "markdown",
      "metadata": {},
      "source": [
        "**EXAMPLE 1: image classification using the EuroSAT dataset**\n",
        "\n",
        "[The EuroSAT dataset](https://github.com/phelber/eurosat?tab=readme-ov-file) is a collection of 27,000 lebelled Sentinel-2 images. The dataset comes in RGB (3-channel) format or 13 spectral bands. Here we use a subset of 5,000 images evenly split between then 10 classes (500 images each)."
      ]
    },
    {
      "cell_type": "markdown",
      "metadata": {
        "id": "QSOU6HYz9vlE"
      },
      "source": [
        "**Step 1: download data on drive**\n",
        "\n",
        "In order to create an efficient dataloader, need to download dataset as a zip and then unzip to '/content'. [Here is a link to this issue on stack overflow.](https://stackoverflow.com/questions/59120853/google-colab-is-so-slow-while-reading-images-from-google-drive)\n",
        "\n",
        "1. download zip:"
      ]
    },
    {
      "cell_type": "code",
      "execution_count": null,
      "metadata": {},
      "outputs": [],
      "source": [
        "!gdown 1ci8-w2Y0Z-hZaO-KyS4cFAiHKwfx4MMO"
      ]
    },
    {
      "cell_type": "markdown",
      "metadata": {},
      "source": [
        "2. now unzip:"
      ]
    },
    {
      "cell_type": "code",
      "execution_count": null,
      "metadata": {},
      "outputs": [],
      "source": [
        "!unzip \"eurosat_rgb.zip\" -d \"/content\""
      ]
    },
    {
      "cell_type": "markdown",
      "metadata": {},
      "source": [
        "3. go to [main.yaml](src/conf/main.yaml) and set dataset.dir_parent=/content/"
      ]
    },
    {
      "cell_type": "markdown",
      "metadata": {},
      "source": [
        "**Step 2: train / test model**\n",
        "\n",
        "For the EuroSAT dataset, you have three options for models to try: 'cnn', 'vitmae' and 'resnet'\n",
        "\n",
        "Here is an example using pretrained resnet18:"
      ]
    },
    {
      "cell_type": "code",
      "execution_count": null,
      "metadata": {
        "colab": {
          "base_uri": "https://localhost:8080/"
        },
        "id": "i4OrXFdNJeFB",
        "outputId": "7e5d82dc-670a-4d3b-f08a-2de8c3d8d8ad"
      },
      "outputs": [],
      "source": [
        "!python src/traintest.py dataset=eurosat_rgb model=resnet"
      ]
    }
  ],
  "metadata": {
    "accelerator": "GPU",
    "colab": {
      "gpuType": "T4",
      "provenance": []
    },
    "kernelspec": {
      "display_name": "Python 3",
      "name": "python3"
    },
    "language_info": {
      "name": "python"
    }
  },
  "nbformat": 4,
  "nbformat_minor": 0
}
